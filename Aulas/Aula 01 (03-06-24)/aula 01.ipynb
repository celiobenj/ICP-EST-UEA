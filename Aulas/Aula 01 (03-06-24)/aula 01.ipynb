{
  "cells": [
    {
      "cell_type": "markdown",
      "metadata": {
        "colab_type": "text",
        "id": "view-in-github"
      },
      "source": [
        "<a href=\"https://colab.research.google.com/github/celiobenj/ICP_EST_UEA/blob/main/aula_pratica_introducao_python.ipynb\" target=\"_parent\"><img src=\"https://colab.research.google.com/assets/colab-badge.svg\" alt=\"Open In Colab\"/></a>"
      ]
    },
    {
      "cell_type": "markdown",
      "metadata": {
        "id": "yBFckR3mjBCc"
      },
      "source": [
        "# **Introdução ao Python**\n",
        "Crie um campo de texto abaixo e digite o seu nome"
      ]
    },
    {
      "cell_type": "markdown",
      "metadata": {
        "id": "unG5Lgjfmc6y"
      },
      "source": [
        "## O que é programar?\n",
        "\n",
        "Programar é como brincar com *LEGO*. Seguindo esta analogia, o trabalho do **programador** é construir estruturas complexas (como um castelo) encaixando blocos.\n",
        "Ele projeta as funcionalidades que deseja criar e planeja um passo-a-passo para chegar ate elas, partindo do pressuposto de que um conjunto de blocos fundamentais já estarão disponíveis para ele.\n",
        "O conjunto de blocos fundamentais disponíveis para o programador é o que constituiria uma **linguagem de programação**. Em termos gerais ela reúne conjuntos de regras e estruturas que permitem que o programador expresse suas ideias na forma de **código**. Escrever código seria como encaixar blocos. Sendo assim, o programador não precisa se preocupar em construir os blocos do zero antes de começar a trabalhar.\n",
        "\n",
        "<img src=\"https://github.com/pedrosiracusa/curso_intro_prog_biol/blob/verao_lncc_2019/aulas/img/lego_programming.png?raw=1\" >"
      ]
    },
    {
      "cell_type": "markdown",
      "metadata": {
        "id": "9tKmfV_2mc61"
      },
      "source": [
        "Neste curso você trabalhará com a linguagem [*Python*](https://www.python.org/), uma linguagem de **propósito geral** que oferece **alto nível** de abstração. Isso faz de *Python* uma excelente primeira linguagem a ser aprendida, pois *(i)* você poderá aplicar seus novos conhecimentos em programação a vários projetos e contextos diferentes; e *(ii)* você trabalhará projetando suas ideias, sem ter que se preocupar com os mínimos detalhes sobre como seu código funciona.\n",
        "\n",
        "Um componente fundamental da linguagem *Python* que nos permite **executar** o código que escrevemos é o **interpretador**.\n",
        "No fundo, o interpretador é um programa que executa programas! Ele lê as instruções que escrevemos na forma de código e as executa logo em seguida, sem antes precisar traduzi-lo para código de máquina. Quer ver um exemplo?\n",
        "\n",
        "Vamos começar construindo o [programa \"Hello World\"](https://www.wikiwand.com/en/%22Hello,_World!%22_program), uma tradição bem conhecida entre os programadores quando estão aprendendo uma linguagem nova.\n",
        "Este pequeno programa é encarado como um primeiro teste, e simplesmente imprime uma mensagem com o texto *\"Hello World\"* no console.\n",
        "Escrever o programa \"Hello World em *Python* é realmente muito simples. Veja na célula abaixo."
      ]
    },
    {
      "cell_type": "code",
      "execution_count": null,
      "metadata": {
        "colab": {
          "base_uri": "https://localhost:8080/"
        },
        "id": "bWsNKOBkmc63",
        "outputId": "875dc99e-ed65-4a8a-eb31-68198394db97"
      },
      "outputs": [
        {
          "name": "stdout",
          "output_type": "stream",
          "text": [
            "Hello World\n"
          ]
        }
      ],
      "source": [
        "print(\"Hello World\")"
      ]
    },
    {
      "cell_type": "markdown",
      "metadata": {
        "id": "9Sav8mQWmc65"
      },
      "source": [
        "O que fizemos foi simplesmente executar uma **função**, que já faz todo o \"trabalho sujo\" para nós. Esta função, que se chama `print`, recebe um texto como **argumento**, entre parênteses, e o imprime no console. No caso, o texto que passamos é `\"Hello World\"`. As aspas envolvendo o texto servem para dizer ao interpretador que estamos construindo uma *string* (o tipo de dado que usamos para representar texto)."
      ]
    },
    {
      "cell_type": "markdown",
      "metadata": {
        "id": "dR4UqaXGmc66"
      },
      "source": [
        "Por enquanto vamos focar no uso mais básico do interpretador *Python*, operando valores numéricos apenas.\n",
        "Nesta aula vamos aprender a usar o interpretador como uma calculadora um pouco mais elaborada.\n",
        "No fim você codificará um modelo de crescimento exponencial para estimar o tamanho populacional em uma cultura bacteriana."
      ]
    },
    {
      "cell_type": "markdown",
      "metadata": {
        "id": "1qa8ZoHgmc67"
      },
      "source": [
        "### Objetivos.\n",
        "Após esta aula você deverá ser capaz de:\n",
        "\n",
        "* Reconhecer os principais **operadores numéricos**;\n",
        "* Construir e computar **expressões** matemáticas;\n",
        "* Armazenar e consultar resultados de computações em **variáveis**."
      ]
    },
    {
      "cell_type": "markdown",
      "metadata": {
        "id": "XjisZlzamc67"
      },
      "source": [
        "## 1. Tipos"
      ]
    },
    {
      "cell_type": "markdown",
      "metadata": {
        "id": "LZd-hk-umc68"
      },
      "source": [
        "**Tipos** são abstrações fundamentais nas linguagens de programação que nos permitem representar elementos de informação. Cada linguagem possui um conjunto de *tipos primitivos* (ou fundamentais), a partir dos quais o programador pode construir *tipos compostos*.\n",
        "Por enquanto vamos conhecer alguns dos tipos primitivos, que já vêm definidos na linguagem *Python*:\n",
        "\n",
        "* Tipos **numéricos**:\n",
        " * **Integer** (inteiros): Permite representar números inteiros, por exemplo `4`.\n",
        " * **Float** (ponto flutuante): Permite representar números com parte fracionária, por exemplo `42.5`.\n",
        "\n",
        "* **String**: Permite representar informação na forma de texto, por exemplo `\"Palavra\"` ou `\"C\"`. Usamos aspas (duplas ou simples) para representar informação textual. Em muitas outras linguagens de programação existe também o tipo caractere (ou char). Porém, em *Python* um caractere é uma string de comprimento 1.\n",
        "\n",
        "* **Boolean**: Representa informação em lógica binária, `True` ou `False`."
      ]
    },
    {
      "cell_type": "code",
      "execution_count": null,
      "metadata": {
        "id": "vJ5a1M3Smc6-",
        "outputId": "174c1a06-3fe4-409b-946e-eb1bf35a91ae"
      },
      "outputs": [
        {
          "name": "stdout",
          "output_type": "stream",
          "text": [
            "42 <class 'int'>\n",
            "42.5 <class 'float'>\n",
            "Palavra <class 'str'>\n",
            "C <class 'str'>\n",
            "True <class 'bool'>\n",
            "False <class 'bool'>\n"
          ]
        }
      ],
      "source": [
        "print(42, type(42))\n",
        "print(42.5, type(42.5))\n",
        "print(\"Palavra\", type(\"Palavra\"))\n",
        "print('C', type('C'))\n",
        "print(True, type(True))\n",
        "print(False, type(False))"
      ]
    },
    {
      "cell_type": "markdown",
      "metadata": {
        "id": "3Spz3LWymc7A"
      },
      "source": [
        "Veja os [tipos nativos](https://docs.python.org/3/library/stdtypes.html#built-in-types) da linguagem *Python*."
      ]
    },
    {
      "cell_type": "markdown",
      "metadata": {
        "id": "e_2VELaKmc7A"
      },
      "source": [
        "## 2. Operadores e expressões"
      ]
    },
    {
      "cell_type": "markdown",
      "metadata": {
        "id": "dulGl7-4mc7B"
      },
      "source": [
        "**Operadores** são os símbolos que especificam as computações mais fundamentais, como por exemplo soma, subtração, multiplicação e divisão. Sempre que aplicamos um operador sobre dois operandos, esperamos obter algum resultado imediatamente. Podemos combinar vários operadores e operandos, construindo assim **expressões**. Veja na tabela abaixo os principais operadores numéricos da linguagem *Python*."
      ]
    },
    {
      "cell_type": "markdown",
      "metadata": {
        "id": "QkjMgZiTmc7B"
      },
      "source": [
        "| Operação| Operador| Exemplo | Resultado\n",
        "|:-|---|-:|--|\n",
        "| Soma      | `+` | `9 + 7` | `16` |\n",
        "| Subtração | `-` | `9 - 7` | `2` |\n",
        "| Multiplicação | `*` | `9 * 7` | `63` |\n",
        "| Divisão | `/` | `5 / 2`| `2.5` |\n",
        "| Divisão Inteira | `//` | `5 / 2`| `2` |\n",
        "| Exponenciação | `**` | `9**2` | `81` |\n",
        "| Módulo | `%` | `9 % 2` | `1` |\n",
        "\n"
      ]
    },
    {
      "cell_type": "markdown",
      "metadata": {
        "id": "nxD-Md70mc7C"
      },
      "source": [
        "Experimente operar alguns números na célula abaixo"
      ]
    },
    {
      "cell_type": "code",
      "execution_count": null,
      "metadata": {
        "id": "F4OBRz6omc7C",
        "outputId": "799ad078-9d47-4f67-f3cc-b16ebb8ed2ae"
      },
      "outputs": [
        {
          "data": {
            "text/plain": [
              "49"
            ]
          },
          "execution_count": 3,
          "metadata": {},
          "output_type": "execute_result"
        }
      ],
      "source": [
        "42 + 7"
      ]
    },
    {
      "cell_type": "code",
      "execution_count": null,
      "metadata": {
        "id": "Kt6pfdKomc7D",
        "outputId": "3b821b6d-7d2f-47cc-c665-f792b6dbd02c"
      },
      "outputs": [
        {
          "data": {
            "text/plain": [
              "35"
            ]
          },
          "execution_count": 4,
          "metadata": {},
          "output_type": "execute_result"
        }
      ],
      "source": [
        "42 - 7"
      ]
    },
    {
      "cell_type": "code",
      "execution_count": null,
      "metadata": {
        "id": "klgMs8zdmc7E",
        "outputId": "f9a99372-cf63-46eb-f411-c4e7e5f1de24"
      },
      "outputs": [
        {
          "data": {
            "text/plain": [
              "256"
            ]
          },
          "execution_count": 5,
          "metadata": {},
          "output_type": "execute_result"
        }
      ],
      "source": [
        "2**8"
      ]
    },
    {
      "cell_type": "code",
      "execution_count": null,
      "metadata": {
        "id": "lURWLvtSmc7E",
        "outputId": "59243a06-cfb1-4669-e725-b3175e961e40"
      },
      "outputs": [
        {
          "data": {
            "text/plain": [
              "0"
            ]
          },
          "execution_count": 6,
          "metadata": {},
          "output_type": "execute_result"
        }
      ],
      "source": [
        "6 % 3"
      ]
    },
    {
      "cell_type": "code",
      "execution_count": null,
      "metadata": {
        "id": "Dv323fPLmc7F",
        "outputId": "57df367b-6e0d-4c21-e515-8db84ad30480"
      },
      "outputs": [
        {
          "data": {
            "text/plain": [
              "1"
            ]
          },
          "execution_count": 7,
          "metadata": {},
          "output_type": "execute_result"
        }
      ],
      "source": [
        "3 % 2"
      ]
    },
    {
      "cell_type": "code",
      "execution_count": null,
      "metadata": {
        "id": "y6SK_NWWmc7G",
        "outputId": "62f7bbab-e828-4cd5-d01e-d94c56ec36c1"
      },
      "outputs": [
        {
          "data": {
            "text/plain": [
              "3"
            ]
          },
          "execution_count": 8,
          "metadata": {},
          "output_type": "execute_result"
        }
      ],
      "source": [
        "3 % 5"
      ]
    },
    {
      "cell_type": "markdown",
      "metadata": {
        "id": "14Co1N1Imc7H"
      },
      "source": [
        "Você também pode criar expressões combinando valores e operadores!"
      ]
    },
    {
      "cell_type": "code",
      "execution_count": null,
      "metadata": {
        "id": "XYuUvVFTmc7H",
        "outputId": "88143a99-4a3b-451b-ef49-f391da4eafb8"
      },
      "outputs": [
        {
          "data": {
            "text/plain": [
              "48.7"
            ]
          },
          "execution_count": 9,
          "metadata": {},
          "output_type": "execute_result"
        }
      ],
      "source": [
        "42 + 7 - 3/10"
      ]
    },
    {
      "cell_type": "code",
      "execution_count": null,
      "metadata": {
        "id": "M2q7_8MPmc7I",
        "outputId": "1c914b82-bef1-4bef-b3bd-0863f4c72365"
      },
      "outputs": [
        {
          "data": {
            "text/plain": [
              "6"
            ]
          },
          "execution_count": 10,
          "metadata": {},
          "output_type": "execute_result"
        }
      ],
      "source": [
        "3*2 - 4%2"
      ]
    },
    {
      "cell_type": "markdown",
      "metadata": {
        "id": "A1BOxdCNmc7I"
      },
      "source": [
        "<b style=\"color:red\">Cuidado!</b> A ordem de avaliação dos elementos em uma expressão segue a mesma convenção de precedência utilizada na matemática. Elementos entre parênteses têm prioridade durante a avaliação."
      ]
    },
    {
      "cell_type": "markdown",
      "metadata": {
        "id": "-m5Lkpwnmc7J"
      },
      "source": [
        "Na célula abaixo, represente a seguinte expressão em código e obtenha seu resultado:"
      ]
    },
    {
      "cell_type": "markdown",
      "metadata": {
        "id": "dhxGkF1Fmc7J"
      },
      "source": [
        "$$ \\frac{3+(3\\times5)}{2\\times(2+3)} $$"
      ]
    },
    {
      "cell_type": "code",
      "execution_count": null,
      "metadata": {
        "id": "led7kK0zmc7J",
        "outputId": "2903623d-e51a-45ea-97c7-3b4ade901a4a"
      },
      "outputs": [
        {
          "data": {
            "text/plain": [
              "1.8"
            ]
          },
          "execution_count": 11,
          "metadata": {},
          "output_type": "execute_result"
        }
      ],
      "source": [
        "(3+(3*5))/(2*(2+3))"
      ]
    },
    {
      "cell_type": "markdown",
      "metadata": {
        "id": "_xzZnYRMmc7K"
      },
      "source": [
        "> **Comentários**: Está vendo este `#` na primeira linha da célula acima? Linhas de código precedidas por este símbolo são comentários, que funcionam como mensagens a quem está lendo seu código, normalmente outros programadores.\n",
        "Qualquer coisa escrita na mesma linha **à direita** do símbolo é simplesmente ignorada pelo interpretador, ou seja, **não é executada**.\n",
        "É comum utilizar comentários para documentar partes de um código, ou marcar regiões que devem ser trabalhadas futuramente."
      ]
    },
    {
      "cell_type": "markdown",
      "metadata": {
        "id": "SKmcOzzLmc7K"
      },
      "source": [
        "## 3. Variáveis"
      ]
    },
    {
      "cell_type": "markdown",
      "metadata": {
        "id": "WNeHDeL9mc7K"
      },
      "source": [
        "Quando estamos programando, frequentemente precisamos armazenar valores obtidos em etapas anteriores em memória.\n",
        "Assim, podemos re-utilizar estes valores sem precisar repetir todo o código.\n",
        "Linguagens de programação oferecem uma maneira bastante intuitiva para isso, por meio de **variáveis**.\n",
        "O símbolo que usamos para **atribuir** valores a variáveis é o sinal de igual (`=`). Na linguagem *Python*, uma variável é criada assim que atribuimos algum valor a ela.\n",
        "\n",
        "**obs:** O nome da variável sempre deve ser escrito à esquerda do símbolo `=`, e o valor a ser atribuído à variável, à direita."
      ]
    },
    {
      "cell_type": "markdown",
      "metadata": {
        "id": "BapwM7XFmc7L"
      },
      "source": [
        "Por exemplo, podemos criar uma variável chamada `idade`, para armazenar sua idade. Assim, sempre que quisermos saber o valor atribuído a esta variável, basta escrever seu nome em uma célula e executá-la!"
      ]
    },
    {
      "cell_type": "code",
      "execution_count": null,
      "metadata": {
        "id": "bJxPwWC4mc7L"
      },
      "outputs": [],
      "source": [
        "idade = 29"
      ]
    },
    {
      "cell_type": "code",
      "execution_count": null,
      "metadata": {
        "id": "tYTZ1Ozrmc7L",
        "outputId": "a7d2b5a2-1066-422d-e04e-f51d2293ccb8"
      },
      "outputs": [
        {
          "data": {
            "text/plain": [
              "29"
            ]
          },
          "execution_count": 13,
          "metadata": {},
          "output_type": "execute_result"
        }
      ],
      "source": [
        "idade"
      ]
    },
    {
      "cell_type": "markdown",
      "metadata": {
        "id": "uYMq6ZX-mc7L"
      },
      "source": [
        "Declare uma variável chamada `semestre` que armazene o valor numérico do semestre que está cursando atualmente.\n",
        "Em seguida, escreva o nome da variável para obter seu valor."
      ]
    },
    {
      "cell_type": "code",
      "execution_count": null,
      "metadata": {
        "id": "3WI4sTYwmc7M"
      },
      "outputs": [],
      "source": [
        "semestre = 8"
      ]
    },
    {
      "cell_type": "code",
      "execution_count": null,
      "metadata": {
        "id": "G-Z-lYVLmc7M",
        "outputId": "15db6e54-fcba-4dcf-caca-dc66193b4b0b"
      },
      "outputs": [
        {
          "data": {
            "text/plain": [
              "8"
            ]
          },
          "execution_count": 15,
          "metadata": {},
          "output_type": "execute_result"
        }
      ],
      "source": [
        "semestre"
      ]
    },
    {
      "cell_type": "markdown",
      "metadata": {
        "id": "r-A0fN07mc7M"
      },
      "source": [
        "Quando lidamos com expressões grandes e complexas pode ser interessante quebrá-las em várias sub-expressões. Veja o seguinte exemplo:"
      ]
    },
    {
      "cell_type": "markdown",
      "metadata": {
        "id": "4b4m644bmc7M"
      },
      "source": [
        "$$ 2 \\bigg[ \\frac{3\\times(2+5)-20}{3} \\bigg]^2 + \\sqrt 2 + 1  $$"
      ]
    },
    {
      "cell_type": "markdown",
      "metadata": {
        "id": "_u_jS5jumc7N"
      },
      "source": [
        "Para facilitar a codificação desta expressão, vamos escrevê-la nas seguintes etapas:\n",
        "\n",
        "1. Atribua o resultado de $\\frac{3\\times(2+5)-20}{3}$ a uma variável de nome `a`.\n",
        "2. Atribua o resultado de $\\sqrt{2}+1$ a uma variável de nome `b`. Lembrando que $\\sqrt{2} = 2^{\\frac{1}{2}}$\n",
        "3. Agora, compute o resultado da expressão inteira usando as variáveis que você acabou de criar. $2a^2 + b$ e atribua o resultado a uma variável de nome `c`.\n",
        "4. Por fim, imprima no console o valor da variável `c`."
      ]
    },
    {
      "cell_type": "code",
      "execution_count": null,
      "metadata": {
        "id": "1ZiKHYPamc7N",
        "outputId": "a4fc23f4-850e-4d9d-e551-6518ad6d420e"
      },
      "outputs": [
        {
          "data": {
            "text/plain": [
              "2.6364357845953172"
            ]
          },
          "execution_count": 16,
          "metadata": {},
          "output_type": "execute_result"
        }
      ],
      "source": [
        "a = (3*(2+5)-20)/3\n",
        "b = 2**(1/2) + 1\n",
        "c = 2*a**2 + b\n",
        "\n",
        "c"
      ]
    },
    {
      "cell_type": "markdown",
      "metadata": {
        "id": "cRW3p8sOmc7N"
      },
      "source": [
        "---"
      ]
    },
    {
      "cell_type": "markdown",
      "metadata": {
        "id": "nVsd4qaQHyNy"
      },
      "source": [
        "## 4. Entrada de dados"
      ]
    },
    {
      "cell_type": "markdown",
      "metadata": {
        "id": "iycnjVCxIkj_"
      },
      "source": [
        "Em Python, fazemos isso utilizando a função `input()`, que é literalmente **entrada** em inglês.\n",
        "\n",
        "Veja um exemplo:"
      ]
    },
    {
      "cell_type": "code",
      "execution_count": null,
      "metadata": {
        "colab": {
          "base_uri": "https://localhost:8080/"
        },
        "id": "KIajmqUVIzGS",
        "outputId": "bd051ef0-d6cc-47c8-90c5-d5c061f45a34"
      },
      "outputs": [
        {
          "name": "stdout",
          "output_type": "stream",
          "text": [
            "10\n",
            "Idade digitada:  10\n"
          ]
        }
      ],
      "source": [
        "idade = input()\n",
        "\n",
        "print(\"Idade digitada: \", idade)"
      ]
    },
    {
      "cell_type": "markdown",
      "metadata": {
        "id": "TE2HwK0DJ04I"
      },
      "source": [
        "A função `input()` pode receber como parâmetro uma string que será mostrada como auxílio ao usuário, geralmente o informando que tipo de dado o programa está aguardando receber."
      ]
    },
    {
      "cell_type": "code",
      "execution_count": null,
      "metadata": {
        "colab": {
          "base_uri": "https://localhost:8080/"
        },
        "id": "PNcLxMQEJ-MS",
        "outputId": "3ae918b0-0537-4883-ef10-979c3b24f2a7"
      },
      "outputs": [
        {
          "name": "stdout",
          "output_type": "stream",
          "text": [
            "Digite a sua idade: 80\n",
            "Idade digitada:  80\n"
          ]
        }
      ],
      "source": [
        "idade = input(\"Digite a sua idade: \")\n",
        "\n",
        "print(\"Idade digitada: \", idade)"
      ]
    },
    {
      "cell_type": "markdown",
      "metadata": {
        "id": "peaIh0pvmc7O"
      },
      "source": [
        "## Exercícios resolvidos\n",
        "\n",
        "```\n",
        "# Isto está formatado como código\n",
        "```\n",
        "\n"
      ]
    },
    {
      "cell_type": "markdown",
      "metadata": {
        "id": "RaKNVUk_mc7O"
      },
      "source": [
        "**Ex 1.** Associe o resultado da expressão $2(10+1) + \\frac{8}{3+1}$ a uma variável de nome `a`.\n",
        "Em seguida, associe à mesma variável o valor $5$ e imprima seu valor no console, usando a função `print`.\n",
        "Qual valor será mostrado? E se você quisesse imprimir o resultado do primeiro valor que a variável recebeu?"
      ]
    },
    {
      "cell_type": "code",
      "execution_count": null,
      "metadata": {
        "id": "Yc3-qOSOmc7O",
        "outputId": "5ed0e474-17ca-43e8-b420-e1c863f9b22d"
      },
      "outputs": [
        {
          "name": "stdout",
          "output_type": "stream",
          "text": [
            "Primeiro valor de a: 24.0\n",
            "Segundo valor de a: 5\n"
          ]
        }
      ],
      "source": [
        "a = 2*(10+1) + (8/(3+1))\n",
        "print(\"Primeiro valor de a:\",a)\n",
        "a = 5\n",
        "print(\"Segundo valor de a:\",a)"
      ]
    },
    {
      "cell_type": "markdown",
      "metadata": {
        "id": "6efBgLFsmc7O"
      },
      "source": [
        "**Ex 2.** Veja na célula abaixo a codificação da expressão $\\sqrt{\\frac{3(3+5)}{5+1}}$. Execute a célula e observe o resultado. O valor está correto? Caso não esteja, como corrigir a expressão?"
      ]
    },
    {
      "cell_type": "code",
      "execution_count": null,
      "metadata": {
        "id": "M7QKJs8Imc7P",
        "outputId": "705eeaa6-5e01-4f01-8adc-63439401f9c1"
      },
      "outputs": [
        {
          "data": {
            "text/plain": [
              "2.0"
            ]
          },
          "execution_count": 18,
          "metadata": {},
          "output_type": "execute_result"
        }
      ],
      "source": [
        "( 3*(3+5) / (5+1) )**(1/2)"
      ]
    },
    {
      "cell_type": "markdown",
      "metadata": {
        "id": "hdiEv0h9mc7P"
      },
      "source": [
        "**Ex 3.** Para valores de $x$ em $\\{ 1,5,8, 9\\}$, compute o valor da função $\\quad{}f(x) = \\beta_0 + \\beta_1 x \\quad{}$, com parâmetros $\\beta_0 = -1.3$ e $\\beta_1=3.5$."
      ]
    },
    {
      "cell_type": "code",
      "execution_count": 5,
      "metadata": {
        "colab": {
          "base_uri": "https://localhost:8080/"
        },
        "id": "N6JUYd--mc7P",
        "outputId": "d749937c-254e-405a-d464-a75b8ed50cf5"
      },
      "outputs": [
        {
          "name": "stdout",
          "output_type": "stream",
          "text": [
            "x = 1 -> f(x) = 2.2\n",
            "x = 5 -> f(x) = 16.2\n",
            "x = 8 -> f(x) = 26.7\n",
            "x = 9 -> f(x) = 30.2\n"
          ]
        }
      ],
      "source": [
        "# Crie as variáveis b0 e b1\n",
        "b0=-1.3\n",
        "b1=3.5\n",
        "\n",
        "# Para cada print, armazene os valores de x e f(x) nas variáveis x e f_x\n",
        "for x in [1, 5, 8, 9]:\n",
        "  print(f\"x = {x} -> f(x) = {b0+b1*x}\")"
      ]
    },
    {
      "cell_type": "markdown",
      "metadata": {
        "id": "EHidmJr_NrYf"
      },
      "source": [
        "## Exercicios propostos\n",
        "\n",
        "Crie seções de código abaixo dos problemas para resolve-los"
      ]
    },
    {
      "cell_type": "markdown",
      "metadata": {
        "id": "GIT46HEeNvH7"
      },
      "source": [
        "João Papo-de-Pescador, homem de bem, comprou um microcomputador para controlar o rendimento diário de seu trabalho. Toda vez que ele traz um peso de peixes maior que o estabelecido pelo regulamento de pesca do estado de São Paulo (50 quilos) deve pagar uma multa de R$ 4,00 por quilo excedente. João precisa que você faça um programa em Python que leia a variável peso (peso de peixes) e calcule o excesso. Gravar na variável excesso a quantidade de quilos além do limite e na variável multa o valor da multa que João deverá pagar. Imprima os dados do programa com as mensagens adequadas."
      ]
    },
    {
      "cell_type": "code",
      "execution_count": 24,
      "metadata": {
        "colab": {
          "base_uri": "https://localhost:8080/"
        },
        "id": "g9ln3HA_bPDA",
        "outputId": "945d22a5-f2e3-45f9-e55f-3eb377a4b2e3"
      },
      "outputs": [
        {
          "name": "stdout",
          "output_type": "stream",
          "text": [
            "Qual é o peso total de peixes pescado (kg)? 80\n",
            "O peso total pescado foi de 80.0 kg de peixes.\n",
            "Você excedeu 30.0 kg de peixe, e por isso terá que pagar uma multa de R$120.00.\n"
          ]
        }
      ],
      "source": [
        "peso = float(input(\"Qual é o peso total de peixes pescado (kg)? \"))\n",
        "éMenor : bool = (peso <= 50)\n",
        "\n",
        "print(f\"O peso total pescado foi de {peso} kg de peixes.\")\n",
        "\n",
        "if éMenor:\n",
        "  print(\"Tudo certo, não precisa pagar multa\")\n",
        "else:\n",
        "  excesso = peso - 50\n",
        "  multa = excesso * 4\n",
        "  print(f\"Você excedeu {excesso} kg de peixe, e por isso terá que pagar uma multa de R${multa:.2f}.\")"
      ]
    },
    {
      "cell_type": "markdown",
      "metadata": {
        "id": "ssiO35OvOibF"
      },
      "source": [
        "Faça um Programa que pergunte quanto você ganha por hora e o número de horas trabalhadas no mês. Calcule e mostre o total do seu salário no referido mês, sabendo-se que são descontados 11% para o Imposto de Renda, 8% para o INSS e 5% para o sindicato, faça um programa que nos dê:\n",
        "\n",
        "*   salário bruto.\n",
        "*   quanto pagou ao INSS.\n",
        "*   quanto pagou ao sindicato.\n",
        "*   o salário líquido.\n",
        "    \n",
        "    \n"
      ]
    },
    {
      "cell_type": "code",
      "execution_count": 32,
      "metadata": {
        "colab": {
          "base_uri": "https://localhost:8080/"
        },
        "id": "_Fi0KR9mg1dH",
        "outputId": "cc5c9c12-b87b-4afe-afa7-77c30c910de4"
      },
      "outputs": [
        {
          "name": "stdout",
          "output_type": "stream",
          "text": [
            "Qual é o seu salário bruto? 1420\n",
            "\n",
            "Seu salário bruto é de R$1,420.00.\n",
            "Você pagou ao INSS um total de R$156.20.\n",
            "Você pagou ao sind um total de R$71.00.\n",
            "Seu salário líquido é de R$1,192.80.\n",
            "\n"
          ]
        }
      ],
      "source": [
        "ganhoHora = float(input(\"Quanto você ganha por hora? \"))\n",
        "hora = float(input(\"Quantas horas você trabalha por mês? \"))\n",
        "\n",
        "salBruto = ganhoHora * hora\n",
        "\n",
        "# impostos\n",
        "INSS = salBruto*(11/100)\n",
        "sind = salBruto*(5/100)\n",
        "\n",
        "# salário líquido\n",
        "salLiq = salBruto - INSS - sind\n",
        "\n",
        "print(f\"\"\"\n",
        "Seu salário bruto é de R${salBruto:,.2f}.\n",
        "Você pagou ao INSS um total de R${INSS:,.2f}.\n",
        "Você pagou ao sind um total de R${sind:,.2f}.\n",
        "Seu salário líquido é de R${salLiq:,.2f}.\n",
        "\"\"\")"
      ]
    }
  ],
  "metadata": {
    "colab": {
      "include_colab_link": true,
      "provenance": []
    },
    "kernelspec": {
      "display_name": "Python 3",
      "name": "python3"
    },
    "language_info": {
      "name": "python"
    }
  },
  "nbformat": 4,
  "nbformat_minor": 0
}
